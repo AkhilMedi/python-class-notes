{
 "cells": [
  {
   "cell_type": "code",
   "execution_count": 1,
   "id": "4b15e129-0beb-4d61-99d8-21d4d168eddb",
   "metadata": {},
   "outputs": [
    {
     "name": "stdout",
     "output_type": "stream",
     "text": [
      "1000 1231634958512\n",
      "2000 1231634958864\n",
      "pyhton 1231634951376\n",
      "p 140708113626072\n",
      "y 140708113626504\n",
      "h 140708113625688\n",
      "t 140708113626264\n",
      "o 140708113626024\n",
      "n 140708113625976\n",
      "[3000, 4000, 1000, 2000, 'pyhton'] 1231635182656\n",
      "3000 1231634958736\n",
      "4000 1231634958800\n",
      "1000 1231634958512\n",
      "2000 1231634958864\n",
      "pyhton 1231634951376\n",
      "[3000, 4000, 1000, 2000, 'pyhton'] 1231635182656\n",
      "3000 1231634958736\n",
      "4000 1231634958800\n",
      "1000 1231634958512\n",
      "2000 1231634958864\n",
      "pyhton 1231634951376\n",
      "5000 1231634958992\n",
      "[3000, 5000, 1000, 2000, 'pyhton']\n",
      "[3000, 5000, 1000, 2000, 'pyhton']\n"
     ]
    }
   ],
   "source": [
    "a = 1000\n",
    "print(a, id(a))\n",
    "b = 2000\n",
    "print(b, id(b))\n",
    "s = \"pyhton\"\n",
    "print(s, id(s))\n",
    "print(s[0], id(s[0]))\n",
    "print(s[1], id(s[1]))\n",
    "print(s[2], id(s[2]))\n",
    "print(s[3], id(s[3]))\n",
    "print(s[4], id(s[4]))\n",
    "print(s[5], id(s[5]))\n",
    "\n",
    "l = [3000, 4000, a, b,s ]\n",
    "print(l, id(l))\n",
    "print(l[0], id(l[0]))\n",
    "print(l[1], id(l[1]))\n",
    "print(l[2], id(l[2]))\n",
    "print(l[3], id(l[3]))\n",
    "print(l[4], id(l[4]))\n",
    "\n",
    "k = l\n",
    "print(k, id(l))\n",
    "print(k[0], id(k[0]))\n",
    "print(k[1], id(k[1]))\n",
    "print(k[2], id(k[2]))\n",
    "print(k[3], id(k[3]))\n",
    "print(k[4], id(k[4]))\n",
    "k[1] = 5000\n",
    "print(k[1], id(k[1]))\n",
    "print(l)\n",
    "print(k)"
   ]
  },
  {
   "cell_type": "code",
   "execution_count": 2,
   "id": "1388cd1e-ecd2-42b3-b5bb-60979ee43c01",
   "metadata": {},
   "outputs": [
    {
     "name": "stdout",
     "output_type": "stream",
     "text": [
      "['__add__', '__class__', '__class_getitem__', '__contains__', '__delattr__', '__delitem__', '__dir__', '__doc__', '__eq__', '__format__', '__ge__', '__getattribute__', '__getitem__', '__getstate__', '__gt__', '__hash__', '__iadd__', '__imul__', '__init__', '__init_subclass__', '__iter__', '__le__', '__len__', '__lt__', '__mul__', '__ne__', '__new__', '__reduce__', '__reduce_ex__', '__repr__', '__reversed__', '__rmul__', '__setattr__', '__setitem__', '__sizeof__', '__str__', '__subclasshook__', 'append', 'clear', 'copy', 'count', 'extend', 'index', 'insert', 'pop', 'remove', 'reverse', 'sort']\n",
      "[3000, 5000, 1000, 2000, 'pyhton']\n",
      "[3000, 5000, 1000, 2000, 'pyhton']\n"
     ]
    }
   ],
   "source": [
    "a = 1000\n",
    "b = 2000\n",
    "s = \"pyhton\"\n",
    "l = [3000, 4000, a, b,s ]\n",
    "print(dir(l))\n",
    "k = l\n",
    "k[1] = 5000\n",
    "print(l)\n",
    "print(k)"
   ]
  },
  {
   "cell_type": "code",
   "execution_count": 1,
   "id": "395560ab-5098-4199-9935-c98cfd76dfa9",
   "metadata": {},
   "outputs": [
    {
     "name": "stdout",
     "output_type": "stream",
     "text": [
      "[1, 2, 3, 4]\n"
     ]
    }
   ],
   "source": [
    "my_list = [1, 2, 3]\n",
    "my_list.append(4)\n",
    "print(my_list)"
   ]
  },
  {
   "cell_type": "code",
   "execution_count": 2,
   "id": "4c710fa4-ee38-42d4-beae-daed54d5ec61",
   "metadata": {},
   "outputs": [
    {
     "name": "stdout",
     "output_type": "stream",
     "text": [
      "[]\n"
     ]
    }
   ],
   "source": [
    "my_list = [1, 2, 3]\n",
    "my_list.clear()\n",
    "print(my_list)"
   ]
  },
  {
   "cell_type": "code",
   "execution_count": 3,
   "id": "30817f6f-4631-4233-b859-a40a68f6068f",
   "metadata": {},
   "outputs": [
    {
     "name": "stdout",
     "output_type": "stream",
     "text": [
      "[1, 2, 3]\n"
     ]
    }
   ],
   "source": [
    "my_list = [1, 2, 3]\n",
    "new_list = my_list.copy()\n",
    "print(new_list)"
   ]
  },
  {
   "cell_type": "code",
   "execution_count": 4,
   "id": "348b8540-8726-443e-869c-9045c26da5ed",
   "metadata": {},
   "outputs": [
    {
     "name": "stdout",
     "output_type": "stream",
     "text": [
      "2\n"
     ]
    }
   ],
   "source": [
    "my_list = [1, 2, 2, 3]\n",
    "count_2 = my_list.count(2)\n",
    "print(count_2)\n"
   ]
  },
  {
   "cell_type": "code",
   "execution_count": 5,
   "id": "e7ca25ca-e587-4b32-a5ae-aafaa94ebfce",
   "metadata": {},
   "outputs": [
    {
     "name": "stdout",
     "output_type": "stream",
     "text": [
      "[1, 2, 3, 4, 5]\n"
     ]
    }
   ],
   "source": [
    "my_list = [1, 2, 3]\n",
    "my_list.extend([4, 5])\n",
    "print(my_list)\n"
   ]
  },
  {
   "cell_type": "code",
   "execution_count": 6,
   "id": "10dd3072-952f-458d-bec9-767521cb67c0",
   "metadata": {},
   "outputs": [
    {
     "name": "stdout",
     "output_type": "stream",
     "text": [
      "1\n"
     ]
    }
   ],
   "source": [
    "\n",
    "my_list = [1, 2, 3]\n",
    "index_2 = my_list.index(2)\n",
    "print(index_2)"
   ]
  },
  {
   "cell_type": "code",
   "execution_count": 7,
   "id": "a1f236e8-002f-4188-8346-b85275f73027",
   "metadata": {},
   "outputs": [
    {
     "name": "stdout",
     "output_type": "stream",
     "text": [
      "[1, 2, 3, 4]\n"
     ]
    }
   ],
   "source": [
    "my_list = [1, 2, 4]\n",
    "my_list.insert(2, 3)  \n",
    "print(my_list)"
   ]
  },
  {
   "cell_type": "code",
   "execution_count": 8,
   "id": "99ff1e5b-2e43-44b4-9f86-dd02253197a1",
   "metadata": {},
   "outputs": [
    {
     "name": "stdout",
     "output_type": "stream",
     "text": [
      "[1, 3, 2]\n"
     ]
    }
   ],
   "source": [
    "my_list = [1, 2, 3, 2]\n",
    "my_list.remove(2)\n",
    "print(my_list) "
   ]
  },
  {
   "cell_type": "code",
   "execution_count": 9,
   "id": "49196d21-a7c2-460f-a2ec-e08e0aec83f5",
   "metadata": {},
   "outputs": [
    {
     "name": "stdout",
     "output_type": "stream",
     "text": [
      "[3, 2, 1]\n"
     ]
    }
   ],
   "source": [
    "my_list = [1, 2, 3]\n",
    "my_list.reverse()\n",
    "print(my_list)"
   ]
  },
  {
   "cell_type": "code",
   "execution_count": 10,
   "id": "71ae4fc4-b586-46ec-ae7e-0f5a157fa139",
   "metadata": {},
   "outputs": [
    {
     "name": "stdout",
     "output_type": "stream",
     "text": [
      "[1, 2, 3]\n",
      "[3, 2, 1]\n"
     ]
    }
   ],
   "source": [
    "\n",
    "my_list = [3, 1, 2]\n",
    "my_list.sort()\n",
    "print(my_list)\n",
    "\n",
    "\n",
    "my_list.sort(reverse=True)\n",
    "print(my_list) "
   ]
  },
  {
   "cell_type": "code",
   "execution_count": null,
   "id": "6d1e87ed-13c4-4f42-ae7e-6113f54fcb11",
   "metadata": {},
   "outputs": [],
   "source": []
  },
  {
   "cell_type": "code",
   "execution_count": null,
   "id": "3916bc75-605c-4a0b-a8c7-742e0d9127d1",
   "metadata": {},
   "outputs": [],
   "source": []
  }
 ],
 "metadata": {
  "kernelspec": {
   "display_name": "Python 3 (ipykernel)",
   "language": "python",
   "name": "python3"
  },
  "language_info": {
   "codemirror_mode": {
    "name": "ipython",
    "version": 3
   },
   "file_extension": ".py",
   "mimetype": "text/x-python",
   "name": "python",
   "nbconvert_exporter": "python",
   "pygments_lexer": "ipython3",
   "version": "3.12.4"
  }
 },
 "nbformat": 4,
 "nbformat_minor": 5
}
