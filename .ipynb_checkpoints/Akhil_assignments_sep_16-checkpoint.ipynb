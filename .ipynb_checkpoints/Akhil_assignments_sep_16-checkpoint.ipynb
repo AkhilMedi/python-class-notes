{
 "cells": [
  {
   "cell_type": "code",
   "execution_count": 7,
   "id": "067041c0-48aa-4710-934d-c761e0ccc241",
   "metadata": {},
   "outputs": [
    {
     "name": "stdin",
     "output_type": "stream",
     "text": [
      "Enter a Number :  11\n"
     ]
    },
    {
     "name": "stdout",
     "output_type": "stream",
     "text": [
      "11 is a Prime Number\n"
     ]
    }
   ],
   "source": [
    "# 25. take a number from the user and check whether it is prime?\n",
    "\n",
    "check_number = input(\"Enter a Number : \")\n",
    "check_number = int(check_number)\n",
    "count = 0\n",
    "for i in range(2, check_number+1):\n",
    "    if check_number % i == 0 :\n",
    "        count += 1\n",
    "        \n",
    "if count == 1:\n",
    "    print(check_number, \"is a Prime Number\")\n",
    "else:\n",
    "    print(check_number, \"is not a Prime Number\")"
   ]
  },
  {
   "cell_type": "code",
   "execution_count": 1,
   "id": "266565d9-b729-42e3-ac49-a797c12756d6",
   "metadata": {},
   "outputs": [
    {
     "name": "stdin",
     "output_type": "stream",
     "text": [
      "Enter a word with digits :  12345\n"
     ]
    },
    {
     "name": "stdout",
     "output_type": "stream",
     "text": [
      "contains only digits\n"
     ]
    }
   ],
   "source": [
    "# 26. take a string from the user and check contains only digits or not?\n",
    "\n",
    "user_input = input(\"Enter a word with digits : \")\n",
    "count = 0\n",
    "for i in user_input:\n",
    "    if not(i >= \"0\" and i <= \"9\"):\n",
    "        print(\"contains other\")\n",
    "        break\n",
    "    else:\n",
    "        count += 1\n",
    "if count == len(user_input):\n",
    "    print(\"contains only digits\")\n",
    "    "
   ]
  },
  {
   "cell_type": "code",
   "execution_count": 6,
   "id": "d58f9ab3-2a57-49a4-91b9-05db9dd96122",
   "metadata": {},
   "outputs": [
    {
     "name": "stdin",
     "output_type": "stream",
     "text": [
      "Enter a word with alphabets :  JGJHGJGJG\n"
     ]
    },
    {
     "name": "stdout",
     "output_type": "stream",
     "text": [
      "contains only alphabets\n"
     ]
    }
   ],
   "source": [
    "# 27. take a string from the user and check contains only  alphabets or not?\n",
    "\n",
    "user_input = input(\"Enter a word with alphabets : \")\n",
    "count = 0\n",
    "for i in user_input:\n",
    "    if not((i >= \"a\" and i <= \"z\") or (i >= \"A\" and i <= \"Z\")) :\n",
    "        print(\"contains others\")\n",
    "        break\n",
    "    else:\n",
    "        count += 1\n",
    "if count == len(user_input):\n",
    "    print(\"contains only alphabets\")"
   ]
  },
  {
   "cell_type": "code",
   "execution_count": 8,
   "id": "6af8b46e-3bcf-4372-bea7-6873dbaf9487",
   "metadata": {},
   "outputs": [
    {
     "name": "stdin",
     "output_type": "stream",
     "text": [
      "Enter a word with Specail chars :  @\n"
     ]
    },
    {
     "name": "stdout",
     "output_type": "stream",
     "text": [
      "contains others\n"
     ]
    }
   ],
   "source": [
    "# 28. take a string from the user and check contains only  special chars or not?\n",
    "\n",
    "user_input = input(\"Enter a word with Specail chars : \")\n",
    "count = 0\n",
    "for i in user_input:\n",
    "    if not( (i >= \"a\" and i <= \"z\") or (i >= \"A\" and i <= \"Z\") or (i >= \"0\" and i <= \"9\") ) :\n",
    "        print(\"contains others\")\n",
    "        break\n",
    "    else:\n",
    "        count += 1\n",
    "if count == len(user_input):\n",
    "    print(\"contains only Specail chars\")"
   ]
  },
  {
   "cell_type": "code",
   "execution_count": 2,
   "id": "9157e78b-3599-45d4-938c-354bfa3d8fc5",
   "metadata": {},
   "outputs": [
    {
     "name": "stdin",
     "output_type": "stream",
     "text": [
      "Enter a word with alphabets :  dfhgfdjfAKJJhj\n"
     ]
    },
    {
     "name": "stdout",
     "output_type": "stream",
     "text": [
      "contains others\n"
     ]
    }
   ],
   "source": [
    "# 29.take a string from the user and check contains only  capital letters or not?\n",
    "\n",
    "user_input = input(\"Enter a word with alphabets : \")\n",
    "count = 0\n",
    "for i in user_input:\n",
    "    if not((i >= \"A\" and i <= \"Z\")) :\n",
    "        print(\"contains others\")\n",
    "        \n",
    "        break\n",
    "    else:\n",
    "        count += 1\n",
    "if count == len(user_input):\n",
    "    print(\"contains only Capital Letters\")"
   ]
  },
  {
   "cell_type": "code",
   "execution_count": 4,
   "id": "753270cd-4caa-4e92-83c0-73837c0b7401",
   "metadata": {},
   "outputs": [
    {
     "name": "stdin",
     "output_type": "stream",
     "text": [
      "Enter a word with alphabets :  HGFGFhdfhfd\n"
     ]
    },
    {
     "name": "stdout",
     "output_type": "stream",
     "text": [
      "contains others\n"
     ]
    }
   ],
   "source": [
    "# 30.take a string from the user and check contains only  small letters or not?\n",
    "\n",
    "user_input = input(\"Enter a word with alphabets : \")\n",
    "count = 0\n",
    "for i in user_input:\n",
    "    if not((i >= \"a\" and i <= \"z\")) :\n",
    "        print(\"contains others\")\n",
    "        break\n",
    "    else:\n",
    "        count += 1\n",
    "if count == len(user_input):\n",
    "    print(\"contains only small letters\")"
   ]
  },
  {
   "cell_type": "code",
   "execution_count": 11,
   "id": "72520e79-060c-4782-bfd8-3a55ae6a7be5",
   "metadata": {},
   "outputs": [
    {
     "name": "stdout",
     "output_type": "stream",
     "text": [
      "['apple', 'orange', 'apple', 'grape', 'orange', 'apple', 'apple', 'orange']\n",
      "['apple', 'orange', 'apple', 'grape', 'orange', 'APPLE', 'APPLE', 'orange']\n"
     ]
    }
   ],
   "source": [
    "# 31. WAP to replace last n occurrence of give string.\n",
    "# For example:”apple,orange,apple,grape,orange,apple,apple,orange”\n",
    "# source: “apple”\n",
    "# last occurrences: 2\n",
    "# replace with: APPLE\n",
    "# output:”apple,orange,apple,grape,orange,APPLE,APPLE,orange”\n",
    "\n",
    "a = \"apple,orange,apple,grape,orange,apple,apple,orange\"\n",
    "list_a = a.split(',')\n",
    "print(list_a)\n",
    "source = \"apple\"\n",
    "for i in range(0, len(list_a)-1):\n",
    "    if list_a[i] == source and list_a[i+1] == source:\n",
    "        list_a[i] = \"APPLE\"\n",
    "        list_a[i+1] = \"APPLE\"\n",
    "\n",
    "print(list_a)\n",
    "\n",
    "\n"
   ]
  },
  {
   "cell_type": "code",
   "execution_count": 42,
   "id": "583fb5b2-fe5a-4a05-b848-28861b8e0b5c",
   "metadata": {},
   "outputs": [
    {
     "name": "stdin",
     "output_type": "stream",
     "text": [
      "Enter a string it contains numbers and float values :  hello\n"
     ]
    },
    {
     "name": "stdout",
     "output_type": "stream",
     "text": [
      "not contains numbers \n"
     ]
    }
   ],
   "source": [
    "# 32. WAP to check given string contains numbers or not. it should consider float numbers also.\n",
    "user_input = input(\"Enter a string it contains numbers and float values : \" )\n",
    "for i in user_input:\n",
    "    if (i >= \"0\" and i <= \"9\"):\n",
    "        print(\"contains numbers \")\n",
    "        break\n",
    "else:\n",
    "    print(\"not contains numbers \")"
   ]
  },
  {
   "cell_type": "code",
   "execution_count": 45,
   "id": "101ad233-7ffa-499e-8b2f-2970dda0bbb2",
   "metadata": {},
   "outputs": [
    {
     "name": "stdin",
     "output_type": "stream",
     "text": [
      "Enter a word with alphabets :  ABCabc\n"
     ]
    },
    {
     "name": "stdout",
     "output_type": "stream",
     "text": [
      "abcabc\n"
     ]
    }
   ],
   "source": [
    "# 33. Convert the total string in to lower case. Without using lower() function.\n",
    "\n",
    "user_input = input(\"Enter a word with alphabets : \")\n",
    "user_input = list(user_input)\n",
    "for i in range(0, len(user_input)):\n",
    "    if ((user_input[i] >= \"A\" and user_input[i] <= \"Z\")) :\n",
    "        user_input[i] = chr(ord(user_input[i]) + 32)\n",
    "\n",
    "print(\"\".join(user_input))"
   ]
  },
  {
   "cell_type": "code",
   "execution_count": 44,
   "id": "019286dd-5785-4edc-b627-5988d04bfc87",
   "metadata": {},
   "outputs": [
    {
     "name": "stdin",
     "output_type": "stream",
     "text": [
      "Enter a word with alphabets :  ABCabc\n"
     ]
    },
    {
     "name": "stdout",
     "output_type": "stream",
     "text": [
      "ABCABC\n"
     ]
    }
   ],
   "source": [
    "# 34. Convert the total string in to upper case. Without using upper() function.\n",
    "\n",
    "user_input = input(\"Enter a word with alphabets : \")\n",
    "user_input = list(user_input)\n",
    "for i in range(0, len((user_input))):\n",
    "    if ((user_input[i] >= \"a\" and user_input[i] <= \"z\")) :\n",
    "        user_input[i] = chr(ord(user_input[i]) - 32)\n",
    "\n",
    "print(\"\".join(user_input))"
   ]
  },
  {
   "cell_type": "code",
   "execution_count": 53,
   "id": "d941684b-9df9-40a3-a0cd-3014a5f7506d",
   "metadata": {},
   "outputs": [
    {
     "name": "stdout",
     "output_type": "stream",
     "text": [
      "Menu: \n",
      "1. windows \n",
      "2. Linux \n",
      "3. Mac \n",
      "4. quit\n"
     ]
    }
   ],
   "source": [
    "# 35. Show the below menu to the user until and until user select quit and display corresponding os message\n",
    "# Menu:\n",
    "# 1. windows\n",
    "# 2. Linux\n",
    "# 3. Mac\n",
    "# 4. quit\n",
    "a = \"Menu: \\n1. windows \\n2. Linux \\n3. Mac \\n4. quit\"\n",
    "print(a)\n",
    "\n",
    "\n"
   ]
  },
  {
   "cell_type": "code",
   "execution_count": null,
   "id": "61ada60a-ef5f-471c-96b6-9a7773d17ce1",
   "metadata": {},
   "outputs": [],
   "source": [
    "# 36. take a string from the user and check contains at least one digit or not?"
   ]
  },
  {
   "cell_type": "code",
   "execution_count": null,
   "id": "cd212827-507e-4426-8972-b2627b5dcbe0",
   "metadata": {},
   "outputs": [],
   "source": [
    "# 37. take a string from the user and check contains at least one alphabets or not?"
   ]
  },
  {
   "cell_type": "code",
   "execution_count": null,
   "id": "d127499a-14b0-43b9-90e6-e4b841e2cba5",
   "metadata": {},
   "outputs": [],
   "source": [
    "# 38. take a string from the user and check contains at least one chars or not?"
   ]
  },
  {
   "cell_type": "code",
   "execution_count": null,
   "id": "73334d2a-7d8d-4f2a-b4e2-90135331d9dd",
   "metadata": {},
   "outputs": [],
   "source": [
    "# 39. take a string from the user and check contains at least one capital letter or not?"
   ]
  },
  {
   "cell_type": "code",
   "execution_count": null,
   "id": "31045320-7806-4de8-b7a8-213fa761aa8e",
   "metadata": {},
   "outputs": [],
   "source": [
    "# 40. take a string from the user and check contains at least one small letter or not?"
   ]
  },
  {
   "cell_type": "code",
   "execution_count": null,
   "id": "fc437342-a15a-4dad-8a80-ebc1efa1de71",
   "metadata": {},
   "outputs": [],
   "source": [
    "# 41. Print the first 100 odd numbers"
   ]
  },
  {
   "cell_type": "code",
   "execution_count": null,
   "id": "8e1865ac-b4c8-4296-89f1-003318a32ab3",
   "metadata": {},
   "outputs": [],
   "source": [
    "# 42. Determine the factors of a number entered  by the user"
   ]
  },
  {
   "cell_type": "code",
   "execution_count": null,
   "id": "b06969bf-e116-417f-81a9-d66f46da2ef0",
   "metadata": {},
   "outputs": [],
   "source": [
    "# 43. Play a number guessing game (User enters a guess, you print YES or Higher or Lower). \n",
    "# This should continue until and until user gives a correct number or want to quit in the middle.\n",
    "# Get a hidden number by using random.randint(1,100)\n"
   ]
  },
  {
   "cell_type": "code",
   "execution_count": null,
   "id": "21efc4a2-d02d-402d-aae8-578aeb8cdaa5",
   "metadata": {},
   "outputs": [],
   "source": [
    "# 44. Take two numbers from the user a,b check whether a is divisible by b or not?"
   ]
  },
  {
   "cell_type": "code",
   "execution_count": null,
   "id": "89cb9fca-7848-482f-8514-27b172ee301a",
   "metadata": {},
   "outputs": [],
   "source": [
    "# 45. Find the sum of all the multiples of 3 or 5 below 1000"
   ]
  }
 ],
 "metadata": {
  "kernelspec": {
   "display_name": "Python 3 (ipykernel)",
   "language": "python",
   "name": "python3"
  },
  "language_info": {
   "codemirror_mode": {
    "name": "ipython",
    "version": 3
   },
   "file_extension": ".py",
   "mimetype": "text/x-python",
   "name": "python",
   "nbconvert_exporter": "python",
   "pygments_lexer": "ipython3",
   "version": "3.12.4"
  }
 },
 "nbformat": 4,
 "nbformat_minor": 5
}
