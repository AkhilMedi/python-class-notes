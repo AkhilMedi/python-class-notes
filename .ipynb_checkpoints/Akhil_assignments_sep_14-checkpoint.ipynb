{
 "cells": [
  {
   "cell_type": "code",
   "execution_count": 7,
   "id": "067041c0-48aa-4710-934d-c761e0ccc241",
   "metadata": {},
   "outputs": [
    {
     "name": "stdin",
     "output_type": "stream",
     "text": [
      "Enter a Number :  11\n"
     ]
    },
    {
     "name": "stdout",
     "output_type": "stream",
     "text": [
      "11 is a Prime Number\n"
     ]
    }
   ],
   "source": [
    "# 25. take a number from the user and check whether it is prime?\n",
    "\n",
    "check_number = input(\"Enter a Number : \")\n",
    "check_number = int(check_number)\n",
    "count = 0\n",
    "for i in range(2, check_number+1):\n",
    "    if check_number % i == 0 :\n",
    "        count += 1\n",
    "        \n",
    "if count == 1:\n",
    "    print(check_number, \"is a Prime Number\")\n",
    "else:\n",
    "    print(check_number, \"is not a Prime Number\")"
   ]
  },
  {
   "cell_type": "code",
   "execution_count": 1,
   "id": "266565d9-b729-42e3-ac49-a797c12756d6",
   "metadata": {},
   "outputs": [
    {
     "name": "stdin",
     "output_type": "stream",
     "text": [
      "Enter a word with digits :  12345\n"
     ]
    },
    {
     "name": "stdout",
     "output_type": "stream",
     "text": [
      "contains only digits\n"
     ]
    }
   ],
   "source": [
    "# 26. take a string from the user and check contains only digits or not?\n",
    "\n",
    "user_input = input(\"Enter a word with digits : \")\n",
    "count = 0\n",
    "for i in user_input:\n",
    "    if not(i >= \"0\" and i <= \"9\"):\n",
    "        print(\"contains other\")\n",
    "        break\n",
    "    else:\n",
    "        count += 1\n",
    "if count == len(user_input):\n",
    "    print(\"contains only digits\")\n",
    "    "
   ]
  },
  {
   "cell_type": "code",
   "execution_count": 6,
   "id": "d58f9ab3-2a57-49a4-91b9-05db9dd96122",
   "metadata": {},
   "outputs": [
    {
     "name": "stdin",
     "output_type": "stream",
     "text": [
      "Enter a word with alphabets :  JGJHGJGJG\n"
     ]
    },
    {
     "name": "stdout",
     "output_type": "stream",
     "text": [
      "contains only alphabets\n"
     ]
    }
   ],
   "source": [
    "# 27. take a string from the user and check contains only  alphabets or not?\n",
    "\n",
    "user_input = input(\"Enter a word with alphabets : \")\n",
    "count = 0\n",
    "for i in user_input:\n",
    "    if not((i >= \"a\" and i <= \"z\") or (i >= \"A\" and i <= \"Z\")) :\n",
    "        print(\"contains others\")\n",
    "        break\n",
    "    else:\n",
    "        count += 1\n",
    "if count == len(user_input):\n",
    "    print(\"contains only alphabets\")"
   ]
  },
  {
   "cell_type": "code",
   "execution_count": 8,
   "id": "6af8b46e-3bcf-4372-bea7-6873dbaf9487",
   "metadata": {},
   "outputs": [
    {
     "name": "stdin",
     "output_type": "stream",
     "text": [
      "Enter a word with Specail chars :  @\n"
     ]
    },
    {
     "name": "stdout",
     "output_type": "stream",
     "text": [
      "contains others\n"
     ]
    }
   ],
   "source": [
    "# 28. take a string from the user and check contains only  special chars or not?\n",
    "\n",
    "user_input = input(\"Enter a word with Specail chars : \")\n",
    "count = 0\n",
    "for i in user_input:\n",
    "    if not( (i >= \"a\" and i <= \"z\") or (i >= \"A\" and i <= \"Z\") or (i >= \"0\" and i <= \"9\") ) :\n",
    "        print(\"contains others\")\n",
    "        break\n",
    "    else:\n",
    "        count += 1\n",
    "if count == len(user_input):\n",
    "    print(\"contains only Specail chars\")"
   ]
  },
  {
   "cell_type": "code",
   "execution_count": null,
   "id": "9157e78b-3599-45d4-938c-354bfa3d8fc5",
   "metadata": {},
   "outputs": [],
   "source": [
    "# 29.take a string from the user and check contains only  capital letters or not?\n",
    "\n"
   ]
  },
  {
   "cell_type": "code",
   "execution_count": null,
   "id": "753270cd-4caa-4e92-83c0-73837c0b7401",
   "metadata": {},
   "outputs": [],
   "source": [
    "# 30.take a string from the user and check contains only  small letters or not?\n",
    "\n"
   ]
  },
  {
   "cell_type": "code",
   "execution_count": null,
   "id": "72520e79-060c-4782-bfd8-3a55ae6a7be5",
   "metadata": {},
   "outputs": [],
   "source": [
    "# 31. WAP to replace last n occurrence of give string.\n",
    "# For example:”apple,orange,apple,grape,orange,apple,apple,orange”\n",
    "# source: “apple”\n",
    "# last occurrences: 2\n",
    "# replace with: APPLE\n",
    "# output:”apple,orange,apple,grape,orange,APPLE,APPLE,orange”\n",
    "\n",
    "\n"
   ]
  },
  {
   "cell_type": "code",
   "execution_count": null,
   "id": "583fb5b2-fe5a-4a05-b848-28861b8e0b5c",
   "metadata": {},
   "outputs": [],
   "source": [
    "# 32. WAP to check given string contains numbers or not. it should consider float numbers also.\n",
    "\n"
   ]
  },
  {
   "cell_type": "code",
   "execution_count": null,
   "id": "101ad233-7ffa-499e-8b2f-2970dda0bbb2",
   "metadata": {},
   "outputs": [],
   "source": [
    "# 33. Convert the total string in to lower case. Without using lower() function.\n",
    "\n"
   ]
  },
  {
   "cell_type": "code",
   "execution_count": null,
   "id": "019286dd-5785-4edc-b627-5988d04bfc87",
   "metadata": {},
   "outputs": [],
   "source": [
    "# 34. Convert the total string in to upper case. Without using upper() function.\n",
    "\n"
   ]
  },
  {
   "cell_type": "code",
   "execution_count": null,
   "id": "d941684b-9df9-40a3-a0cd-3014a5f7506d",
   "metadata": {},
   "outputs": [],
   "source": [
    "# 35. Show the below menu to the user until and until user select quit and display corresponding os message\n",
    "# Menu:\n",
    "# 1. windows\n",
    "# 2. Linux\n",
    "# 3. Mac\n",
    "# 4. quit\n",
    "\n",
    "\n"
   ]
  },
  {
   "cell_type": "code",
   "execution_count": null,
   "id": "61ada60a-ef5f-471c-96b6-9a7773d17ce1",
   "metadata": {},
   "outputs": [],
   "source": []
  },
  {
   "cell_type": "code",
   "execution_count": null,
   "id": "cd212827-507e-4426-8972-b2627b5dcbe0",
   "metadata": {},
   "outputs": [],
   "source": []
  }
 ],
 "metadata": {
  "kernelspec": {
   "display_name": "Python 3 (ipykernel)",
   "language": "python",
   "name": "python3"
  },
  "language_info": {
   "codemirror_mode": {
    "name": "ipython",
    "version": 3
   },
   "file_extension": ".py",
   "mimetype": "text/x-python",
   "name": "python",
   "nbconvert_exporter": "python",
   "pygments_lexer": "ipython3",
   "version": "3.12.4"
  }
 },
 "nbformat": 4,
 "nbformat_minor": 5
}
