{
 "cells": [
  {
   "cell_type": "code",
   "execution_count": 3,
   "id": "4b15e129-0beb-4d61-99d8-21d4d168eddb",
   "metadata": {},
   "outputs": [
    {
     "name": "stdout",
     "output_type": "stream",
     "text": [
      "[3000, 5000, 1000, 2000, 'pyhton']\n",
      "[3000, 5000, 1000, 2000, 'pyhton']\n"
     ]
    }
   ],
   "source": [
    "a = 1000\n",
    "b = 2000\n",
    "s = \"pyhton\"\n",
    "l = [3000, 4000, a, b,s ]\n",
    "k = l\n",
    "k[1] = 5000\n",
    "print(l)\n",
    "print(k)"
   ]
  },
  {
   "cell_type": "code",
   "execution_count": null,
   "id": "395560ab-5098-4199-9935-c98cfd76dfa9",
   "metadata": {},
   "outputs": [],
   "source": []
  }
 ],
 "metadata": {
  "kernelspec": {
   "display_name": "Python 3 (ipykernel)",
   "language": "python",
   "name": "python3"
  },
  "language_info": {
   "codemirror_mode": {
    "name": "ipython",
    "version": 3
   },
   "file_extension": ".py",
   "mimetype": "text/x-python",
   "name": "python",
   "nbconvert_exporter": "python",
   "pygments_lexer": "ipython3",
   "version": "3.12.4"
  }
 },
 "nbformat": 4,
 "nbformat_minor": 5
}
