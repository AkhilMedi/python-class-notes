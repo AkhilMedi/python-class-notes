{
 "cells": [
  {
   "cell_type": "code",
   "execution_count": 3,
   "id": "78d6340c-ae75-40c2-8a33-ee096aaa15f2",
   "metadata": {},
   "outputs": [
    {
     "name": "stdout",
     "output_type": "stream",
     "text": [
      "Hello Python\n",
      "result x + y :  12\n",
      "result x - y :  8\n",
      "result x * y :  20\n",
      "result x / y :  5.0\n",
      "result x % y :  0\n",
      "result  x ** y :  100\n",
      "Thank you !\n"
     ]
    }
   ],
   "source": [
    "def add(x, y):  # signature,  x, y are parameters, add is function name\n",
    "    res = x + y # body\n",
    "    print(\"result x + y : \", res) # body\n",
    "def sub(x, y):\n",
    "    res = x - y\n",
    "    print(\"result x - y : \", res)\n",
    "def mul(x, y):\n",
    "    res = x * y\n",
    "    print(\"result x * y : \", res)\n",
    "def div(x, y):\n",
    "    res = x / y\n",
    "    print(\"result x / y : \", res)\n",
    "def modulus(x, y):\n",
    "    res = x % y\n",
    "    print(\"result x % y : \", res)\n",
    "def exponet(x, y):\n",
    "    res = x ** y\n",
    "    print(\"result  x ** y : \", res)\n",
    "print(\"Hello Python\")\n",
    "add(10, 2)\n",
    "sub(10, 2)\n",
    "mul(10, 2)\n",
    "div(10, 2)\n",
    "modulus(10, 2)\n",
    "exponet(10, 2)\n",
    "print(\"Thank you !\")"
   ]
  },
  {
   "cell_type": "code",
   "execution_count": 8,
   "id": "b1454542-f8be-4e3b-a4ce-a438e15d9bf6",
   "metadata": {},
   "outputs": [
    {
     "name": "stdout",
     "output_type": "stream",
     "text": [
      "result x  :  1\n",
      "result x  :  1\n",
      "result x  :  3\n",
      "result x  :  6\n",
      "result x  :  10\n",
      "result x  :  15\n",
      "result x  :  21\n",
      "result x  :  28\n",
      "result x  :  36\n",
      "result x  :  45\n",
      "result x  :  134\n",
      "result x  :  1\n",
      "result x  :  3\n",
      "result x  :  6\n",
      "result x  :  10\n",
      "result x  :  15\n",
      "result x  :  21\n",
      "result x  :  28\n",
      "result x  :  36\n",
      "result x  :  45\n",
      "result x  :  55\n",
      "result x  :  66\n",
      "result x  :  78\n",
      "result x  :  91\n",
      "result x  :  105\n",
      "result x  :  120\n",
      "result x  :  136\n",
      "result x  :  153\n",
      "result x  :  171\n",
      "result x  :  190\n"
     ]
    }
   ],
   "source": [
    "# add 1 requires, optional: minimum 1, maximun: ?\n",
    "def add(x):\n",
    "    res = 0\n",
    "    for i in x:\n",
    "        res += i \n",
    "        print(\"result x  : \", res) \n",
    "\n",
    "a = [1]\n",
    "add(a)\n",
    "b = [1, 2, 3, 4, 5, 6, 7, 8, 9, 89]\n",
    "add(b)\n",
    "c = [1,2,3,4,5,6,7,8,9,10,11,12,13,14,15,16,17,18,19]\n",
    "add(c)"
   ]
  },
  {
   "cell_type": "code",
   "execution_count": 12,
   "id": "795625b6-0837-4e94-880a-4b9281464667",
   "metadata": {},
   "outputs": [
    {
     "name": "stdout",
     "output_type": "stream",
     "text": [
      "result x  :  1 () <class 'tuple'>\n",
      "result x  :  1 (2, 3, 4, 5, 6, 7, 8, 9, 89) <class 'tuple'>\n",
      "result x  :  1 (2, 3, 4, 5, 6, 7, 8, 9, 10, 11, 12, 13, 14, 15, 16, 17, 18, 19) <class 'tuple'>\n"
     ]
    }
   ],
   "source": [
    "# add 1 requires, optional: minimum 1, maximun: ?\n",
    "def add(x, *k):\n",
    "    print(\"result x  : \", x, k, type(k) )\n",
    "\n",
    "\n",
    "add(1)\n",
    "add(1, 2, 3, 4, 5, 6, 7, 8, 9, 89)\n",
    "add(1,2,3,4,5,6,7,8,9,10,11,12,13,14,15,16,17,18,19)"
   ]
  },
  {
   "cell_type": "code",
   "execution_count": 13,
   "id": "63669dbb-903e-4a23-8eee-3fd94bf9efa6",
   "metadata": {},
   "outputs": [
    {
     "name": "stdout",
     "output_type": "stream",
     "text": [
      "result x  :  1 {} <class 'dict'>\n"
     ]
    },
    {
     "ename": "TypeError",
     "evalue": "add() takes 1 positional argument but 10 were given",
     "output_type": "error",
     "traceback": [
      "\u001b[1;31m---------------------------------------------------------------------------\u001b[0m",
      "\u001b[1;31mTypeError\u001b[0m                                 Traceback (most recent call last)",
      "Cell \u001b[1;32mIn[13], line 7\u001b[0m\n\u001b[0;32m      3\u001b[0m     \u001b[38;5;28mprint\u001b[39m(\u001b[38;5;124m\"\u001b[39m\u001b[38;5;124mresult x  : \u001b[39m\u001b[38;5;124m\"\u001b[39m, x, k, \u001b[38;5;28mtype\u001b[39m(k) )\n\u001b[0;32m      6\u001b[0m add(\u001b[38;5;241m1\u001b[39m)\n\u001b[1;32m----> 7\u001b[0m add(\u001b[38;5;241m1\u001b[39m, \u001b[38;5;241m2\u001b[39m, \u001b[38;5;241m3\u001b[39m, \u001b[38;5;241m4\u001b[39m, \u001b[38;5;241m5\u001b[39m, \u001b[38;5;241m6\u001b[39m, \u001b[38;5;241m7\u001b[39m, \u001b[38;5;241m8\u001b[39m, \u001b[38;5;241m9\u001b[39m, \u001b[38;5;241m89\u001b[39m)\n\u001b[0;32m      8\u001b[0m add(\u001b[38;5;241m1\u001b[39m,\u001b[38;5;241m2\u001b[39m,\u001b[38;5;241m3\u001b[39m,\u001b[38;5;241m4\u001b[39m,\u001b[38;5;241m5\u001b[39m,\u001b[38;5;241m6\u001b[39m,\u001b[38;5;241m7\u001b[39m,\u001b[38;5;241m8\u001b[39m,\u001b[38;5;241m9\u001b[39m,\u001b[38;5;241m10\u001b[39m,\u001b[38;5;241m11\u001b[39m,\u001b[38;5;241m12\u001b[39m,\u001b[38;5;241m13\u001b[39m,\u001b[38;5;241m14\u001b[39m,\u001b[38;5;241m15\u001b[39m,\u001b[38;5;241m16\u001b[39m,\u001b[38;5;241m17\u001b[39m,\u001b[38;5;241m18\u001b[39m,\u001b[38;5;241m19\u001b[39m)\n",
      "\u001b[1;31mTypeError\u001b[0m: add() takes 1 positional argument but 10 were given"
     ]
    }
   ],
   "source": [
    "# add 1 requires, optional: minimum 1, maximun: ?\n",
    "def add(x, **k):\n",
    "    print(\"result x  : \", x, k, type(k) )\n",
    "\n",
    "\n",
    "add(1)\n",
    "add(1, 2, 3, 4)"
   ]
  },
  {
   "cell_type": "code",
   "execution_count": null,
   "id": "d79d5d33-b3e3-4104-bc8b-1bf7fd3f8f31",
   "metadata": {},
   "outputs": [],
   "source": [
    "#  *k: *args, **k: kwargs"
   ]
  },
  {
   "cell_type": "code",
   "execution_count": 14,
   "id": "0ce36b8b-7f53-48a2-bf98-5c648201845f",
   "metadata": {},
   "outputs": [
    {
     "name": "stdout",
     "output_type": "stream",
     "text": [
      "result x  :  1 {} <class 'dict'>\n",
      "result x  :  1 {'a': 2, 'b': 3, 'c': 4} <class 'dict'>\n"
     ]
    }
   ],
   "source": [
    "# add 1 requires, optional: minimum 1, maximun: ?\n",
    "def add(x, **k):\n",
    "    print(\"result x  : \", x, k, type(k) )\n",
    "\n",
    "\n",
    "add(1)\n",
    "add(1, a= 2, b= 3, c =4)"
   ]
  },
  {
   "cell_type": "code",
   "execution_count": 15,
   "id": "6d56aa13-8ffe-49f4-af6b-64085e887c02",
   "metadata": {},
   "outputs": [
    {
     "name": "stdout",
     "output_type": "stream",
     "text": [
      "10\n",
      "200\n",
      "1000\n"
     ]
    }
   ],
   "source": [
    "x = 1000\n",
    "def fun(x, y):\n",
    "    print(x)\n",
    "    x = 200\n",
    "    print(x)\n",
    "\n",
    "fun(10,20)\n",
    "print(x)"
   ]
  },
  {
   "cell_type": "code",
   "execution_count": 16,
   "id": "4a4a67e6-3f3f-4f3d-ad67-f7e8813ce8f3",
   "metadata": {},
   "outputs": [
    {
     "name": "stdout",
     "output_type": "stream",
     "text": [
      "[20, 2, 3, 4]\n"
     ]
    }
   ],
   "source": [
    "x = [1,2,3,4]\n",
    "def fun(k):\n",
    "    k[0] = 20\n",
    "\n",
    "fun(x)\n",
    "print(x)"
   ]
  },
  {
   "cell_type": "code",
   "execution_count": 21,
   "id": "1db86f7f-890f-4420-8d2d-2a792849df43",
   "metadata": {},
   "outputs": [
    {
     "name": "stdout",
     "output_type": "stream",
     "text": [
      "0\n",
      "<function add at 0x00000201BB02B240> 2206455718560 <class 'function'>\n"
     ]
    }
   ],
   "source": [
    "x = 0\n",
    "def fun(k):\n",
    "    k = 20\n",
    "\n",
    "# fun(x)\n",
    "print(x)\n",
    "print(add, id(fun), type(fun))"
   ]
  },
  {
   "cell_type": "code",
   "execution_count": 23,
   "id": "a75fb366-3432-44de-9299-7346eff5a147",
   "metadata": {},
   "outputs": [
    {
     "name": "stdout",
     "output_type": "stream",
     "text": [
      "x 2206479396336\n",
      "y,  2206479394960\n",
      "a 2206479396336\n"
     ]
    }
   ],
   "source": [
    "x = 1000\n",
    "print(\"x\", id(x))\n",
    "y = 2000\n",
    "print(\"y, \", id(y))\n",
    "\n",
    "def add(a, b):\n",
    "    print(\"a\", id(a))\n",
    "\n",
    "add(x, y)"
   ]
  },
  {
   "cell_type": "code",
   "execution_count": 24,
   "id": "8c42169d-cbc7-4bce-bdb9-5fb0e1b45b7a",
   "metadata": {},
   "outputs": [
    {
     "name": "stdout",
     "output_type": "stream",
     "text": [
      "x 2206479398000\n",
      "y,  2206479396048\n",
      "a 2206479398000\n"
     ]
    }
   ],
   "source": [
    "x = 1000\n",
    "print(\"x\", id(x))\n",
    "y = 2000\n",
    "print(\"y, \", id(y))\n",
    "def add(a, b):\n",
    "    print(\"a\", id(a))\n",
    "\n",
    "add(x, y)"
   ]
  },
  {
   "cell_type": "code",
   "execution_count": 27,
   "id": "9551c106-c4cb-4117-b008-98f9064be7ee",
   "metadata": {},
   "outputs": [
    {
     "name": "stdout",
     "output_type": "stream",
     "text": [
      "1000 2206479394832\n",
      "2000 2206479395024\n",
      "3000 2206479396464\n",
      "<function fun at 0x00000201BB813100> 2206464028928\n",
      "1000 2206479394832\n",
      "2000 2206479395024\n",
      "3000 2206479396048\n",
      "10 140707564632792\n",
      "20 140707564633112\n",
      "inside fun x = 10, y = 20, z = 3000\n",
      "outside fun x = 1000, y = 2000, z = 3000\n"
     ]
    }
   ],
   "source": [
    "x = 1000\n",
    "print(x, id(x))\n",
    "y = 2000\n",
    "print(y, id(y))\n",
    "z = 3000\n",
    "print(z, id(z))\n",
    "def fun(a, b):\n",
    "    print(a, id(a))\n",
    "    print(b, id(b))\n",
    "    c = a +b\n",
    "    print(c, id(c))\n",
    "    x = 10\n",
    "    print(x, id(x))\n",
    "    y = 20\n",
    "    print(y, id(y))\n",
    "    print(f\"inside fun x = {x}, y = {y}, z = {z}\")\n",
    "print(fun, id(fun))\n",
    "fun(x,y)\n",
    "print(f\"outside fun x = {x}, y = {y}, z = {z}\")"
   ]
  },
  {
   "cell_type": "code",
   "execution_count": null,
   "id": "f8ec9dca-c96c-420b-b981-cc3cd513b0bf",
   "metadata": {},
   "outputs": [],
   "source": []
  }
 ],
 "metadata": {
  "kernelspec": {
   "display_name": "Python 3 (ipykernel)",
   "language": "python",
   "name": "python3"
  },
  "language_info": {
   "codemirror_mode": {
    "name": "ipython",
    "version": 3
   },
   "file_extension": ".py",
   "mimetype": "text/x-python",
   "name": "python",
   "nbconvert_exporter": "python",
   "pygments_lexer": "ipython3",
   "version": "3.12.4"
  }
 },
 "nbformat": 4,
 "nbformat_minor": 5
}
